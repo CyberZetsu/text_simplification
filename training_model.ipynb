{
 "cells": [
  {
   "cell_type": "code",
   "execution_count": 1,
   "id": "bcb9c78f",
   "metadata": {},
   "outputs": [
    {
     "name": "stderr",
     "output_type": "stream",
     "text": [
      "c:\\Users\\Zetsu\\.conda\\envs\\master-thesis\\Lib\\site-packages\\tqdm\\auto.py:21: TqdmWarning: IProgress not found. Please update jupyter and ipywidgets. See https://ipywidgets.readthedocs.io/en/stable/user_install.html\n",
      "  from .autonotebook import tqdm as notebook_tqdm\n"
     ]
    }
   ],
   "source": [
    "from datasets import load_dataset\n",
    "from transformers import AutoTokenizer, AutoModelForCausalLM, TrainingArguments, Trainer\n",
    "from peft import LoraConfig, get_peft_model, prepare_model_for_kbit_training\n",
    "from transformers import BitsAndBytesConfig, DataCollatorForLanguageModeling\n",
    "import torch\n"
   ]
  },
  {
   "cell_type": "code",
   "execution_count": 2,
   "id": "20b8eada",
   "metadata": {},
   "outputs": [],
   "source": [
    "dataset = load_dataset(\"wiki_auto\", \"auto\", trust_remote_code=True)\n",
    "INPUT_COLUMN = \"normal\"\n",
    "TARGET_COLUMN = \"simple\"\n"
   ]
  },
  {
   "cell_type": "code",
   "execution_count": 3,
   "id": "195e61d2",
   "metadata": {},
   "outputs": [],
   "source": [
    "model_name = \"Qwen/Qwen-7B-Chat\""
   ]
  },
  {
   "cell_type": "code",
   "execution_count": 4,
   "id": "a3e64399",
   "metadata": {},
   "outputs": [],
   "source": [
    "bnb_config = BitsAndBytesConfig(\n",
    "    load_in_4bit=True,\n",
    "    bnb_4bit_use_double_quant=True,\n",
    "    bnb_4bit_quant_type=\"nf4\",\n",
    "    bnb_4bit_compute_dtype=torch.float16\n",
    ")\n"
   ]
  },
  {
   "cell_type": "code",
   "execution_count": 9,
   "id": "6235dcfc",
   "metadata": {},
   "outputs": [
    {
     "name": "stdout",
     "output_type": "stream",
     "text": [
      "Using PAD token: <|endoftext|>\n"
     ]
    }
   ],
   "source": [
    "tokenizer = AutoTokenizer.from_pretrained(model_name, trust_remote_code=True)\n",
    "\n",
    "# Use eos_token if possible\n",
    "if tokenizer.pad_token is None:\n",
    "    if tokenizer.eos_token is not None:\n",
    "        tokenizer.pad_token = tokenizer.eos_token\n",
    "    else:\n",
    "        # fallback: use known safe Qwen token\n",
    "        tokenizer.pad_token = '<|endoftext|>'\n",
    "\n",
    "print(\"Using PAD token:\", tokenizer.pad_token)\n"
   ]
  },
  {
   "cell_type": "code",
   "execution_count": 10,
   "id": "bd9b7ddd",
   "metadata": {},
   "outputs": [
    {
     "name": "stderr",
     "output_type": "stream",
     "text": [
      "The model is automatically converting to bf16 for faster inference. If you want to disable the automatic precision, please manually add bf16/fp16/fp32=True to \"AutoModelForCausalLM.from_pretrained\".\n",
      "Try importing flash-attention for faster inference...\n",
      "Warning: import flash_attn rotary fail, please install FlashAttention rotary to get higher efficiency https://github.com/Dao-AILab/flash-attention/tree/main/csrc/rotary\n",
      "Warning: import flash_attn rms_norm fail, please install FlashAttention layer_norm to get higher efficiency https://github.com/Dao-AILab/flash-attention/tree/main/csrc/layer_norm\n",
      "Warning: import flash_attn fail, please install FlashAttention to get higher efficiency https://github.com/Dao-AILab/flash-attention\n",
      "Loading checkpoint shards: 100%|██████████| 8/8 [00:24<00:00,  3.06s/it]\n"
     ]
    }
   ],
   "source": [
    "model = AutoModelForCausalLM.from_pretrained(\n",
    "    model_name,\n",
    "    quantization_config=bnb_config,\n",
    "    device_map=\"auto\",\n",
    "    trust_remote_code=True\n",
    ")"
   ]
  },
  {
   "cell_type": "code",
   "execution_count": 11,
   "id": "9aebd076",
   "metadata": {},
   "outputs": [
    {
     "data": {
      "text/plain": [
       "Embedding(151851, 4096)"
      ]
     },
     "execution_count": 11,
     "metadata": {},
     "output_type": "execute_result"
    }
   ],
   "source": [
    "model.resize_token_embeddings(len(tokenizer))"
   ]
  },
  {
   "cell_type": "code",
   "execution_count": 13,
   "id": "e6ab0ce2",
   "metadata": {},
   "outputs": [
    {
     "name": "stderr",
     "output_type": "stream",
     "text": [
      "You are using an old version of the checkpointing format that is deprecated (We will also silently ignore `gradient_checkpointing_kwargs` in case you passed it).Please update to the new format on your modeling file. To use the new format, you need to completely remove the definition of the method `_set_gradient_checkpointing` in your model.\n",
      "c:\\Users\\Zetsu\\.conda\\envs\\master-thesis\\Lib\\site-packages\\peft\\mapping_func.py:73: UserWarning: You are trying to modify a model with PEFT for a second time. If you want to reload the model with a different config, make sure to call `.unload()` before.\n",
      "  warnings.warn(\n",
      "c:\\Users\\Zetsu\\.conda\\envs\\master-thesis\\Lib\\site-packages\\peft\\tuners\\tuners_utils.py:167: UserWarning: Already found a `peft_config` attribute in the model. This will lead to having multiple adapters in the model. Make sure to know what you are doing!\n",
      "  warnings.warn(\n"
     ]
    }
   ],
   "source": [
    "model = prepare_model_for_kbit_training(model)\n",
    "\n",
    "lora_config = LoraConfig(\n",
    "    r=8,\n",
    "    lora_alpha=16,\n",
    "    target_modules=[\"c_attn\", \"c_proj\", \"w1\", \"w2\"],\n",
    "    lora_dropout=0.05,\n",
    "    bias=\"none\",\n",
    "    task_type=\"CAUSAL_LM\"\n",
    ")\n",
    "\n",
    "model = get_peft_model(model, lora_config)\n"
   ]
  },
  {
   "cell_type": "code",
   "execution_count": 14,
   "id": "26f5dc44",
   "metadata": {},
   "outputs": [],
   "source": [
    "def preprocess(example):\n",
    "    prompt = f\"Simplify this:\\n{example[INPUT_COLUMN]}\\nSimplified:\"\n",
    "    target = example[TARGET_COLUMN]\n",
    "    full = f\"{prompt} {target}\"\n",
    "\n",
    "    tokenized = tokenizer(\n",
    "        full,\n",
    "        truncation=True,\n",
    "        padding=\"max_length\",\n",
    "        max_length=512\n",
    "    )\n",
    "\n",
    "    labels = tokenized[\"input_ids\"].copy()\n",
    "    labels = [-100 if token == tokenizer.pad_token_id else token for token in labels]\n",
    "    tokenized[\"labels\"] = labels\n",
    "    return tokenized\n"
   ]
  },
  {
   "cell_type": "code",
   "execution_count": 15,
   "id": "0407dadf",
   "metadata": {},
   "outputs": [
    {
     "name": "stderr",
     "output_type": "stream",
     "text": [
      "Map: 100%|██████████| 125059/125059 [14:44<00:00, 141.38 examples/s]\n",
      "Map: 100%|██████████| 13036/13036 [01:05<00:00, 199.31 examples/s]\n"
     ]
    }
   ],
   "source": [
    "# 7. Tokenize datasets\n",
    "tokenized_train = dataset[\"part_1\"].map(preprocess, remove_columns=dataset[\"part_1\"].column_names)\n",
    "tokenized_eval = dataset[\"part_2\"].map(preprocess, remove_columns=dataset[\"part_2\"].column_names) if \"part_2\" in dataset else None\n",
    "\n",
    "# 8. Data collator\n",
    "data_collator = DataCollatorForLanguageModeling(tokenizer=tokenizer, mlm=False)\n"
   ]
  },
  {
   "cell_type": "code",
   "execution_count": null,
   "id": "99d45772",
   "metadata": {},
   "outputs": [
    {
     "name": "stdout",
     "output_type": "stream",
     "text": [
      "\n",
      " Model Output:\n",
      " Simplify this:\n",
      "The proliferation of autonomous vehicles necessitates robust regulatory oversight.\n",
      "Simplified:\n",
      "'t be able to drive without regulations.\n",
      "\n"
     ]
    }
   ],
   "source": [
    "import torch\n",
    "from transformers import AutoTokenizer, AutoModelForCausalLM\n",
    "\n",
    "model.eval()\n",
    "\n",
    "# Simple prompt to test generation\n",
    "prompt = \"Simplify this:\\nThe proliferation of autonomous vehicles necessitates robust regulatory oversight.\\nSimplified:\"\n",
    "\n",
    "# Tokenize\n",
    "inputs = tokenizer(prompt, return_tensors=\"pt\").to(model.device)\n",
    "\n",
    "# Generate\n",
    "output_ids = model.generate(\n",
    "    **inputs,\n",
    "    max_new_tokens=100,  # up from 50\n",
    "    do_sample=False,\n",
    "    pad_token_id=tokenizer.pad_token_id,\n",
    "    eos_token_id=tokenizer.eos_token_id or tokenizer.pad_token_id\n",
    ")\n",
    "\n",
    "\n",
    "# Decode\n",
    "output_text = tokenizer.decode(output_ids[0], skip_special_tokens=True).strip()\n",
    "simplified_response = output_text.split(\"Simplified:\")[-1].strip()\n",
    "\n",
    "print(\" Simplified:\", simplified_response)\n"
   ]
  },
  {
   "cell_type": "code",
   "execution_count": null,
   "id": "309dbc76",
   "metadata": {},
   "outputs": [],
   "source": [
    "# 9. Training args\n",
    "training_args = TrainingArguments(\n",
    "    output_dir=\"./qwen-7b-lora-simplifier\",\n",
    "    per_device_train_batch_size=2,\n",
    "    per_device_eval_batch_size=2,\n",
    "    gradient_accumulation_steps=4,\n",
    "    evaluation_strategy=\"epoch\",\n",
    "    save_strategy=\"epoch\",\n",
    "    num_train_epochs=3,\n",
    "    learning_rate=2e-4,\n",
    "    fp16=True,\n",
    "    logging_dir=\"./logs\",\n",
    "    logging_steps=50,\n",
    "    report_to=\"none\"\n",
    ")\n"
   ]
  },
  {
   "cell_type": "code",
   "execution_count": null,
   "id": "c797c4ec",
   "metadata": {},
   "outputs": [],
   "source": [
    "\n",
    "# 10. Trainer\n",
    "trainer = Trainer(\n",
    "    model=model,\n",
    "    args=training_args,\n",
    "    train_dataset=tokenized_train,\n",
    "    eval_dataset=tokenized_eval,\n",
    "    tokenizer=tokenizer,\n",
    "    data_collator=data_collator\n",
    ")"
   ]
  },
  {
   "cell_type": "code",
   "execution_count": null,
   "id": "0b6db17c",
   "metadata": {},
   "outputs": [],
   "source": [
    "\n",
    "# 11. Train & save\n",
    "trainer.train()\n",
    "model.save_pretrained(\"./qwen-7b-lora-simplifier\")\n",
    "tokenizer.save_pretrained(\"./qwen-7b-lora-simplifier\")\n",
    "\n",
    "print(\" Fine-tuning complete!\")"
   ]
  }
 ],
 "metadata": {
  "kernelspec": {
   "display_name": "master-thesis",
   "language": "python",
   "name": "python3"
  },
  "language_info": {
   "codemirror_mode": {
    "name": "ipython",
    "version": 3
   },
   "file_extension": ".py",
   "mimetype": "text/x-python",
   "name": "python",
   "nbconvert_exporter": "python",
   "pygments_lexer": "ipython3",
   "version": "3.11.11"
  }
 },
 "nbformat": 4,
 "nbformat_minor": 5
}
